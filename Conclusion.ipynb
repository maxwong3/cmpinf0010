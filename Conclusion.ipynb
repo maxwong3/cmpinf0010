{
 "cells": [
  {
   "cell_type": "markdown",
   "id": "a9cd2919-1b20-4926-a804-ac0bff763b2b",
   "metadata": {},
   "source": [
    "# Conclusion"
   ]
  },
  {
   "cell_type": "markdown",
   "id": "9b322bac-4bed-4798-836e-2a2916618a5c",
   "metadata": {},
   "source": [
    "---"
   ]
  },
  {
   "cell_type": "markdown",
   "id": "6f53808a-02bb-444e-9152-62bfded7d6f5",
   "metadata": {},
   "source": [
    "In the end all group members found that the safest neighborhoods would be Mt. Oliver. It is a reasonable assumption to make that variables like \"Mt. Oliver *Buro*\" and \"Mt. Oliver *Neighborhood*\" could be considered under the same umbrella. That being said, without taking into account the crime per capita and going off of instances of our variable alone this also helped us to come to our conclusion. "
   ]
  },
  {
   "cell_type": "code",
   "execution_count": null,
   "id": "70caae05-4296-4e33-9d1b-7674383f0d4a",
   "metadata": {},
   "outputs": [],
   "source": []
  }
 ],
 "metadata": {
  "kernelspec": {
   "display_name": "Python 3 (ipykernel)",
   "language": "python",
   "name": "python3"
  },
  "language_info": {
   "codemirror_mode": {
    "name": "ipython",
    "version": 3
   },
   "file_extension": ".py",
   "mimetype": "text/x-python",
   "name": "python",
   "nbconvert_exporter": "python",
   "pygments_lexer": "ipython3",
   "version": "3.11.5"
  }
 },
 "nbformat": 4,
 "nbformat_minor": 5
}
